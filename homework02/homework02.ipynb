{
  "cells": [
    {
      "cell_type": "markdown",
      "metadata": {
        "id": "cVxNj4S7QCjI"
      },
      "source": [
        "# Introduction to Artificial Intelligence - Homework Assignment 02 (20pts.)\n"
      ]
    },
    {
      "cell_type": "markdown",
      "metadata": {
        "id": "xaB6p6Jt7acV"
      },
      "source": [
        "- NETIDs:\n",
        "\n",
        "This assignment covers the following topics:\n",
        "- Decision Trees\n",
        "- Hidden Markov Models\n",
        "- Bayesian Reasoning\n",
        "\n",
        "and will consist of 4 tasks:\n",
        "* Task 00: Data Collection and Setup (2 pts.)\n",
        "    * Task 00-1: Collect missing suspect data (2 pts.)\n",
        "    * Task 00-2: Load and create data (0 pts.)\n",
        "* Task 01: Decision Tree (7 pts.)\n",
        "    * Task 01-1: Create features for data (3 pts.)\n",
        "        * Task 01-1-1: Engineer weapon matching features (1 pt.)\n",
        "        * Task 01-1-2: Write function to generate feature vectors for each night for each alias (2 pts.)\n",
        "        * Task 01-1-3: Generate feature vectors (0 pts.)\n",
        "    * Task 01-2: Fit decision tree (1 pt.)\n",
        "    * Task 01-3: Test decision tree (1 pt.)\n",
        "    * Task 01-4: Short answer questions (2 pts.)\n",
        "* Task 02: Hidden Markov Model (7 pts.)\n",
        "    * Task 02-1: Create emission matrices (1 pt.)\n",
        "    * Task 02-2: Implement Viterbi algorithm (2 pts.)\n",
        "    * Task 02-3: Compare suspect reported and HMM generate paths (2 pts.)\n",
        "    * Task 02-4: Short answer questions (2 pts.)\n",
        "* Task 03: Bayesian Reasoning (4 pts.)\n",
        "    * Task 03-1: Combine evidence using Bayesian principles (2 pts.)\n",
        "    * Task 03-2: Print final results (2 pt.)\n",
        "\n",
        "Please complete all sections. Some questions will require written answers, while others will involve coding. Be sure to run your code cells to verify your solutions.\n",
        "\n"
      ]
    },
    {
      "cell_type": "markdown",
      "metadata": {
        "id": "HBsMAzLaSHSd"
      },
      "source": [
        "### *Story Progression*\n",
        "\n",
        "\n",
        "\n",
        "After getting in contact with the Theisen-Floyd Estate the police have collected data for past costume parties they've thrown. Turns out there's been a lot of them. They've gathered data on the movement and activity patterns of the aliases. They also been able to compile a list of suspects, but they're not sure which suspect matches which alias!\n",
        "\n",
        "* Professor Theisen\n",
        "* Olivia Zino\n",
        "* Tom Lohman\n",
        "* Sophia Noonan\n",
        "* Jack Mangione\n",
        "* Cesar Cervera\n",
        "\n",
        "Thinking back to class you realize that if you have all of this alias data and suspect data, you could probably structure this as a supervised learning problem, and a classification task! We could compare our suspect data against the alias data, treating it as the ground-truth, and see if any of the suspects line up against the aliases! They were able to get statements from 4 of the 6 suspects, but unfortunately they need your help tracking down the other two. We need to gather more evidence if we're going to be able to figure out who's alibi doesn't hold up. You'll need to visit the two remaining suspects and convince them to give you their statements to get the rest of the needed evidence."
      ]
    },
    {
      "cell_type": "markdown",
      "metadata": {
        "id": "r2dlYFFkUEgH"
      },
      "source": [
        "## Task 00: Collecting Suspect Statements and Data Setup (2 pts.)\n",
        "### Task 00-1: Description (2 pts.)\n",
        "#### Collect Missing Suspect Data\n",
        "\n",
        "* Visit the two remaining suspects to collect their statements. Only one team member needs to visit each suspect, so feel free to divy up the work. The available times to pick up the suspects (TAs) statements are listed below:\n",
        "\n",
        "    *   Jack Mangione: 5:00 - 7:00 on Monday and Wednesday in the CSE Commons\n",
        "    *   Olivia Zino: 2:00 - 4:00 Sunday and 2:00 - 3:00 Monday and Wednesday in the Inno Lounge\n",
        "\n",
        "\n",
        "\n",
        "\n",
        "* Once you've collected them, add them to the suspect data json files.\n",
        "    *   Hint: I wonder if an LLM like ChatGPT could turn a picture of the statements into the json files you need?"
      ]
    },
    {
      "cell_type": "markdown",
      "metadata": {
        "id": "zrDAwgANR-Qc"
      },
      "source": [
        "### Task 01-2: Description (0 pts.)\n",
        "#### Load and create the necessary data\n",
        "\n",
        "* Load alias statements into a dictionary called \"alias_data\" with the format:\n",
        "\n",
        "```\n",
        "{\n",
        "    \"alias_name\": [\n",
        "        {\"suspect_statement\": [...]}\n",
        "    ]\n",
        "}\n",
        "```\n",
        "\n",
        "* Add the suspect statements to the suspect data json files.\n",
        "\n",
        "* Load the suspect data into a dictionary called \"suspect_data\" with the format:\n",
        "\n",
        "```\n",
        "{\n",
        "    \"suspect_name\":\n",
        "        {\"suspect_statement\": [...], \"gps_data\": [...], \"witness_statements\": {...}}\n",
        "}\n",
        "```\n",
        "\n",
        "### Task 01-2: Code (0 pts.)"
      ]
    },
    {
      "cell_type": "code",
      "execution_count": null,
      "metadata": {
        "id": "_aW5i4ftQCjM"
      },
      "outputs": [],
      "source": [
        "import os\n",
        "import json\n",
        "import pprint\n",
        "\n",
        "import numpy as np\n",
        "\n",
        "from typing import List, Dict, Any\n",
        "from collections import defaultdict\n",
        "\n",
        "try:\n",
        "    import google.colab\n",
        "    REPO_URL = \"https://github.com/nd-cse-30124-fa25/cse-30124-homeworks.git\"\n",
        "    REPO_NAME = \"cse-30124-homeworks\"\n",
        "    HW_FOLDER = \"homework02\" \n",
        "\n",
        "    # Clone repo if not already present\n",
        "    if not os.path.exists(REPO_NAME):\n",
        "        !git clone {REPO_URL}\n",
        "\n",
        "    # cd into the homework folder\n",
        "    %cd {REPO_NAME}/{HW_FOLDER}\n",
        "\n",
        "except ImportError:\n",
        "    pass\n",
        "\n",
        "\n",
        "\n",
        "# Load in Alias Statement Data (all you have to do is define the path to your alias training statements)\n",
        "alias_data_dir = 'alias_statements'      # Path to alias statement data\n",
        "alias_data = defaultdict(list)                                                # Dictionary to store alias statements, format: {alias: [list of entries per alias]}\n",
        "\n",
        "for filename in os.listdir(alias_data_dir):                            # For all files in the alias statement directory:\n",
        "  if filename.endswith(\".json\"):                                       #     If file is .json format, then:\n",
        "    file_path = os.path.join(alias_data_dir, filename)                 #        Build the full file path string\n",
        "\n",
        "    with open(file_path, 'r') as f:                                    #        Open file at file_path:\n",
        "        data = json.load(f)                                            #            Load json content into a dict (hint: json.load() is very useful here)\n",
        "        alias_data[data['name']].append(data)                          #            Store data in alias_data dict\n",
        "\n",
        "\n",
        "# Load suspect statement data (all you have to do is define the path to your suspect statement data)\n",
        "suspect_data_dir = 'suspect_statements'           # Path to suspect statement data\n",
        "suspect_data = {}                                                             # Dictionary to store suspect statement data, format:  {suspect name: {json data}}\n",
        "\n",
        "for filename in os.listdir(suspect_data_dir):                          # For all files in the suspect data directory:\n",
        "    if filename.endswith(\".json\"):                                     #     If file is .json format, then:\n",
        "      with open(os.path.join(suspect_data_dir, filename), 'r') as f:   #         Open file at file_path\n",
        "          data = json.load(f)                                          #         Load json file content into a dict\n",
        "          suspect_name = data['name']                                  #         Get suspects name\n",
        "          suspect_data[suspect_name] = data                            #         Store suspects data in suspect_data dict\n",
        "\n",
        "# Print Resulting Data\n",
        "print(\"ALIAS DATA\")\n",
        "pprint.pprint(alias_data)\n",
        "\n",
        "print(\"SUSCPECT DATA\")\n",
        "pprint.pprint(suspect_data)\n"
      ]
    },
    {
      "cell_type": "markdown",
      "metadata": {
        "id": "YpbEMYmUWL_I"
      },
      "source": [
        "### *Story Progression*\n",
        "\n",
        "Looking through the data you have, you realize there's a lot of repeated, overlapping activities and this reminds you of categorical data. You wonder if you could somehow set up a decision tree with the classes being the aliases and then try and match the suspects statements against them!\n"
      ]
    },
    {
      "cell_type": "markdown",
      "metadata": {
        "id": "P_Zx6wGoWWC_"
      },
      "source": [
        "## Task 01: Decision Tree (7 pts.)\n",
        "### Task 01-1: Description (0 pts.)\n",
        "#### Create Features for Data\n",
        "\n",
        "Train a decision tree classifier to match suspects to the aliases.\n",
        "You'll have to do some feature engineering to get the categorial data we have into a format that can be used by the decision tree.\n",
        "\n",
        "* Task 01-1-1: Define activity to weapon mapping  \n",
        "   * Some of the activities seem related to the weapons found at the party, I wonder if we can use that to improve our decision tree?\n",
        "\n",
        "* Task 01-1-2 Feature Engineering / Extraction Function:  \n",
        "   * We need to somehow turn all of the data we were given into a format that can be used by the decision tree  \n",
        "   * Use activities that suggest a weapon that matches each alias  \n",
        "\n",
        "* Task 01-1-3 Prepare Data  \n",
        "   * Run feature extraction function in your alias and suspect data  \n",
        "\n",
        "### Task 01-1-1: Code (1 pt.)"
      ]
    },
    {
      "cell_type": "code",
      "execution_count": null,
      "metadata": {
        "id": "461RGJ5qQCjO"
      },
      "outputs": [],
      "source": [
        "# TODO: Some of the activities seem related to the weapons found at the party, I wonder if we can use that to improve our decision tree.\n",
        "# TODO: Define Activity-to-Weapon Mapping\n",
        "# Note: There should be 3 activities per weapon\n",
        "\n",
        "activity_weapon_mapping = {\n",
        "    'Inflating balloons': 'Gas',\n",
        "    'Ripping wippets': 'Gas',\n",
        "    #TODO: Add a third Gas activity\n",
        "\n",
        "    'Whittling a stick': 'Knife',\n",
        "    'Peeling an orange': 'Knife',\n",
        "    'Opening letters': 'Knife',\n",
        "\n",
        "    'Tampering with drinks': 'Poison',\n",
        "    'Rinsing a glass carefully': 'Poison',\n",
        "    #TODO: Add a third Poison activity\n",
        "\n",
        "    'Tying decorative knots': 'Rope',\n",
        "    'Raising a painting': 'Rope',\n",
        "    'Taking her dog for a walk': 'Rope',\n",
        "\n",
        "    'Inspecting a family heirloom': 'Firearm',\n",
        "    'Opening a safe': 'Firearm',\n",
        "    'Talking about skeet shooting': 'Firearm',\n",
        "\n",
        "    'Bragging about their Birkin': 'Bag',\n",
        "    'Complaining about TSA going through their purse': 'Bag',\n",
        "    #TODO: Add a third Bag activity\n",
        "}"
      ]
    },
    {
      "cell_type": "markdown",
      "metadata": {},
      "source": [
        "### Task 01-1-2: Code (2 pts.)"
      ]
    },
    {
      "cell_type": "code",
      "execution_count": null,
      "metadata": {},
      "outputs": [],
      "source": [
        "# TODO: finish feature extraction function\n",
        "def extract_features(data, is_alias=True):\n",
        "    '''\n",
        "    Function converts the categorical data we have into numerical data for the decision tree\n",
        "    '''\n",
        "\n",
        "    rooms = ['Study', 'Dining Room', 'Kitchen', 'Pantry', 'Living Room', 'Bathroom']    # List of possible rooms where a suspect might have been\n",
        "    weapons = ['Poison', 'Knife', 'Gas', 'Rope', 'Bag', 'Firearm']                      # List of possible weapons\n",
        "\n",
        "    features = {}                                  # Dictionary to store extracted/calculated features\n",
        "\n",
        "    room_time = {room: 0 for room in rooms}        # Dictionary to track time in each room, start at 0\n",
        "    activities = []                                # List to store activities done by suspect\n",
        "\n",
        "    total_time = 0                                 # Keep track of total observations suspet has\n",
        "\n",
        "    # TODO: Count the amount of times the suspect or alias visits each room and a list of activities they do\n",
        "\n",
        "    # TODO: Calculate the percentage of time the suspect or alias spends in each room\n",
        "\n",
        "    # TODO: Create features indicating if an activity they've done suggests a weapon\n",
        "    \n",
        "    return features"
      ]
    },
    {
      "cell_type": "markdown",
      "metadata": {},
      "source": [
        "### Task 01-1-3: Code (0 pts.)"
      ]
    },
    {
      "cell_type": "code",
      "execution_count": null,
      "metadata": {
        "id": "2_XW0Kk7QCjO"
      },
      "outputs": [],
      "source": [
        "import pandas as pd\n",
        "\n",
        "alias_features_dict = {}                                                    # Make empty dict to store extracted features for each alias\n",
        "for alias_name, alias_samples in alias_data.items():                        # Loop through each alias in alias_data\n",
        "    alias_features_dict[alias_name] = []                                        # Make empty list for each alias to store extracted features\n",
        "    for alias_sample in alias_samples:                                          # Loop through alias statements belonging to the same person\n",
        "        features = extract_features(alias_sample, is_alias=True)                    # Call extract_features function\n",
        "        alias_features_dict[alias_name].append(features)                            # Append extracted features dictionary\n",
        "\n",
        "suspect_features_dict = {}                                                  # empty dict to store extracted features for each suspect\n",
        "for suspect, data in suspect_data.items():                                  # Loop through each suspect in suspect data\n",
        "    features = extract_features(data, is_alias=False)                           # Call extract features function\n",
        "    suspect_features_dict[suspect] = features                                   # Store extracted features in suspect_features_dict"
      ]
    },
    {
      "cell_type": "markdown",
      "metadata": {},
      "source": [
        "### Task 01-2: Description (0 pts.)\n",
        "#### Fit Decision Tree to Alias Data\n",
        "\n",
        "* Train decision tree for classification  \n",
        "   * Hint: use `sklearn.tree`\n",
        "\n",
        "### Task 01-2: Code (1 pt.)"
      ]
    },
    {
      "cell_type": "code",
      "execution_count": null,
      "metadata": {
        "id": "P-1XxonYd68A"
      },
      "outputs": [],
      "source": [
        "from sklearn.tree import DecisionTreeClassifier\n",
        "from sklearn.tree import export_text\n",
        "\n",
        "# TODO: Define training and testing data (alias features)\n",
        "\n",
        "# TODO: Train Decision Tree Classifier\n",
        "# use arguments criterion='entropy', random_state=42, max_depth=4, min_samples_split=4\n",
        "\n",
        "# EXTRA: Print the decision tree structure\n",
        "#tree_rules = export_text(clf, feature_names=[f'time_in_{room}' for room in rooms] + [f'suggests_{weapon}' for weapon in weapons])\n",
        "#print(tree_rules)"
      ]
    },
    {
      "cell_type": "markdown",
      "metadata": {},
      "source": [
        "### Task 01-3: Description (0 pts.) \n",
        "#### Use Decision Tree to Classify Suspects as Aliases\n",
        "\n",
        "* Test decision tree classifier and print results  \n",
        "   * Note: All code for printing results is provided to make output format consistent among students  \n",
        "\n",
        "* Store decision tree results to be used later in Bayesian reasoning task  \n",
        "   * Note: This step is done for the students to make sure data formats align between tasks to later be used in Bayesian reasoning\n",
        "\n",
        "### Task 01-3: Code (0 pts.)"
      ]
    },
    {
      "cell_type": "code",
      "execution_count": null,
      "metadata": {},
      "outputs": [],
      "source": [
        "X_test = [list(x.values()) for x in suspect_features_dict.values()]\n",
        "probabilities = clf.predict_proba(X_test)                 # returns a 2D matrix of probabilities\n",
        "                                                          # each row is a suspect, each col is the probability that the suspect matches one of the aliases\n",
        "\n",
        "# Print Results\n",
        "print(\"\\nProbability of Each Suspect Matching Each Alias:\\n\")\n",
        "print(f\"{clf.classes_}\")\n",
        "\n",
        "for suspect_name, probs in zip(suspect_features_dict.keys(), probabilities):\n",
        "    formatted_probs = [f\"{v:.4f}\" for v in probs]\n",
        "    print(f'{suspect_name}: {formatted_probs}')\n",
        "\n",
        "# Store decision tree results to be used later in bayesian reasoning (Task 5)\n",
        "aliases = list(clf.classes_)\n",
        "decision_tree_results = {s_n: p for s_n, p in zip(suspect_features_dict.keys(), probabilities)}\n",
        "# Notes:\n",
        "#    dict contains suspect names as keys and their corresponding probability distributions as values\n",
        "#    aka each suspect has list of probs (one prob per alias) for how likely it is that said suspect matches said alias"
      ]
    },
    {
      "cell_type": "markdown",
      "metadata": {},
      "source": [
        "### Task 01-3: Expected Output (1 pt.)\n",
        "\n",
        "```\n",
        "Probability of Each Suspect Matching Each Alias:\n",
        "\n",
        "['Colonel Mustard' 'Miss Scarlet' 'Mr. Green' 'Mrs. Peacock' 'Mrs. White' 'Professor Plum']\n",
        "Tom Lohman: ['0.5000', '0.0000', '0.0000', '0.5000', '0.0000', '0.0000']\n",
        "Jack Mangione: ['0.0000', '0.0000', '0.0000', '0.0000', '0.0000', '1.0000']\n",
        "Sophia Noonan: ['0.0000', '0.9412', '0.0000', '0.0000', '0.0000', '0.0588']\n",
        "Olivia Zino: ['0.0000', '0.2000', '0.0000', '0.0000', '0.8000', '0.0000']\n",
        "Professor Theisen: ['0.0000', '0.0000', '0.0000', '1.0000', '0.0000', '0.0000']\n",
        "Cesar Cervera: ['0.0000', '0.0000', '0.8636', '0.0000', '0.0455', '0.0909']\n",
        "```"
      ]
    },
    {
      "cell_type": "markdown",
      "metadata": {
        "id": "06vIW9L6kEt7"
      },
      "source": [
        "### Task 01-4: Short Answer Questions (2 pts.)\n",
        "\n",
        "\n",
        "* Task 02-4-1. Why are we using criterion='entropy'? Explain what “entropy” means in this context and what the tree is maximizing at each split.\n",
        "\n",
        "   * Answer:\n",
        "\n",
        "\n",
        "\n",
        "* Task 02-4-2. Do we need to scale or normalize our features for a decision tree? Why or why not?\n",
        "\n",
        "   * Answer:"
      ]
    },
    {
      "cell_type": "markdown",
      "metadata": {
        "id": "7h2EZRSjkREt"
      },
      "source": [
        "### *Story Progression*\n",
        "\n",
        "Nice! We've got a decision tree that can classify the suspects into the aliases! However lets try and get some more evidence before we make a final decision. The decision tree makes use of the time spent in rooms, but it doesn't consider the paths the suspects take between the rooms. Suddenly inspiration strikes! You recall learning about Hidden Markov Models in class and think that maybe you could use them to get some more evidence!\n",
        "\n",
        "## TASK 02: Hidden Markov Models (7 pts.)\n",
        "\n",
        "The police have acquired a blueprint of the estate and based on visitor data the likelihood that a person moves between rooms.\n",
        "\n",
        "<img src=\"https://raw.githubusercontent.com/nd-cse-30124-sp25/nd-cse-30124-sp25.github.io/refs/heads/main/static/img/estate.png\" alt=\"Estate\" style=\"width: 60%; max-width: 800px; height: auto;\">\n",
        "\n",
        "**Note:** I am not an artist don't laugh!\n"
      ]
    },
    {
      "cell_type": "markdown",
      "metadata": {
        "id": "xWMOpfRdlH97"
      },
      "source": [
        "### Task 02-1: Description (0 pts.)\n",
        "#### Generate Emission Matrices\n",
        "\n",
        "* Using the blueprint dictionary given below, initialize a set of emission matrices for each suspect, per timestep, taking into account each suspect's GPS data and witness data"
      ]
    },
    {
      "cell_type": "markdown",
      "metadata": {
        "id": "dYdHnYjhn4Hz"
      },
      "source": [
        "### Task 02-1: Code (1 pt.)"
      ]
    },
    {
      "cell_type": "code",
      "execution_count": null,
      "metadata": {
        "id": "TyYwYJkZ5JF0"
      },
      "outputs": [],
      "source": [
        "import numpy as np\n",
        "from typing import List, Dict, Tuple\n",
        "\n",
        "# Initialize blueprint\n",
        "blueprint = {\n",
        "    \"rooms\": {\n",
        "        \"Study\": { \"id\": 0, \"adjacent_to\": [\"Study\", \"Dining Room\", \"Living Room\"] },\n",
        "        \"Dining Room\": { \"id\": 1, \"adjacent_to\": [\"Study\", \"Dining Room\", \"Kitchen\", \"Living Room\"] },\n",
        "        \"Kitchen\": { \"id\": 2, \"adjacent_to\": [\"Dining Room\", \"Kitchen\", \"Pantry\"] },\n",
        "        \"Pantry\": { \"id\": 3, \"adjacent_to\": [\"Kitchen\", \"Pantry\"] },\n",
        "        \"Living Room\": { \"id\": 4, \"adjacent_to\": [\"Study\", \"Dining Room\", \"Living Room\", \"Bathroom\"] },\n",
        "        \"Bathroom\": { \"id\": 5, \"adjacent_to\": [\"Living Room\", \"Bathroom\"] }\n",
        "    },\n",
        "    \"transition_probabilities\": {\n",
        "        0: { 0: 0.4, 1: 0.3, 4: 0.3 },\n",
        "        1: { 0: 0.25, 1: 0.25, 2: 0.25, 4: 0.25 },\n",
        "        2: { 1: 0.4, 2: 0.4, 3: 0.2 },\n",
        "        3: { 2: 0.8, 3: 0.2 },\n",
        "        4: { 0: 0.25, 1: 0.25, 4: 0.25, 5: 0.25 },\n",
        "        5: { 4: 0.7, 5: 0.3 }\n",
        "    }\n",
        "}\n",
        "\n",
        "locations = blueprint['rooms']\n",
        "n_states = len(locations)\n",
        "\n",
        "initial = np.ones(n_states) / n_states\n",
        "\n",
        "def weight_room_matrix(time: str, gps_data: List[Dict], witness_statements: Dict[str, Dict]) -> np.ndarray:\n",
        "    \"\"\"\n",
        "    Create emission probability matrix using objective evidence (GPS and witnesses).\n",
        "    \"\"\"\n",
        "\n",
        "    # Start with uniform distribution\n",
        "    emission = np.ones(n_states) / n_states\n",
        "\n",
        "    # TODO: Weight based on GPS evidence\n",
        "    # Conceptually:\n",
        "    #    Check if there is GPS data for specified time\n",
        "    #    If yes, then:\n",
        "    #        get location and signal strengh\n",
        "    #        reduce the prob of all rooms based on inverse of signal strength\n",
        "    #        increase the prob of room matching GPS data based on signal strength\n",
        "\n",
        "    # TODO: Weight based on witness evidence\n",
        "    # Conceptually:\n",
        "    #     Check witness statement for a given time\n",
        "    #     Retrieve the reliability of witness, adjust emission matrix probs\n",
        "    #     Probs are adjusted by:\n",
        "    #         Reduce the likelihood of all rooms by (1 - reliability) and\n",
        "    #         Increase the prob of the room where witness saw the suspect based on reliability measure\n",
        "\n",
        "    # TODO: Normalize\n",
        "    emission /= np.sum(emission)\n",
        "\n",
        "    return emission"
      ]
    },
    {
      "cell_type": "markdown",
      "metadata": {},
      "source": [
        "### Task 02-2: Description (0 pts.)\n",
        "#### Viterbi Algorithm\n",
        "\n",
        "Using the emission matrices from task 3-1, implement the viterbi algorithm to find the most likely true path for a suspect\n",
        "\n",
        "### Task 02-2: Code (2 pts.)"
      ]
    },
    {
      "cell_type": "code",
      "execution_count": null,
      "metadata": {
        "id": "ax2icSmlQCjP"
      },
      "outputs": [],
      "source": [
        "def viterbi(suspect_data: Dict, timestamps: List[str]) -> Tuple[List[str], float]:\n",
        "    \"\"\"\n",
        "    Use Viterbi algorithm to find most likely sequence of true locations.\n",
        "    Also returns the probability of the sequence.\n",
        "    \"\"\"\n",
        "    # -------------------------------------\n",
        "    # Step 3a: Get ready for forward pass\n",
        "    #     1. Set up total_timesteps and num_rooms\n",
        "    #     2. Initialize V and backptr matricies\n",
        "    #     3. Compute emmissions probabilites matrix\n",
        "    #     4. Initialize first timestep\n",
        "    # -------------------------------------\n",
        "\n",
        "    # TODO: Initialize total_timesteps, num_rooms, and matrices\n",
        "    \n",
        "    # Create emission matrices for all timestamps\n",
        "    emissions = []\n",
        "    for t in timestamps:\n",
        "        emission_t = weight_room_matrix(t, suspect_data['gps_data'], suspect_data['witness_statements'])\n",
        "        emissions.append(emission_t)\n",
        "\n",
        "    # TODO: Initialize first timestep\n",
        "    # Note: first time step (time 0) probs are initialized using initial state distribution and emission matrix for first time step\n",
        "\n",
        "    # -------------------------------------\n",
        "    # Step 3b: Do forward pass\n",
        "    #     1. Iterate through each time step\n",
        "    #     2. For each room, consider all possible previous rooms (adjacent rooms)\n",
        "    #     3. Compute the prob of arriving in room from any adjacent room\n",
        "    #     4. Store the best previous state in backptr (to use for backtracking later)\n",
        "    #     5. Updates the Viterbi matrix (V) with the highest probability\n",
        "    # -------------------------------------\n",
        "\n",
        "    # -------------------------------------\n",
        "    # Step 3c: Backtrack to reconstruct path\n",
        "    #   1. Find most likely ending room\n",
        "    #   2. Backtrack through the backptr matrix to reconstruct the path\n",
        "    #   3. Reverse reconstructed path to correct order\n",
        "    #   4. Convert room IDs to room names\n",
        "    #   5. Compute the prob of sequence\n",
        "    #   6. Return path and its probability\n",
        "    # -------------------------------------\n",
        "\n",
        "    # TODO: Initialize the path\n",
        "    # Conceptually:\n",
        "    #   V[-1] refers to the last row of the Viterbi matrix (contains the log probabilities of the suspect being in each room at the last time step)\n",
        "    #   np.argmax(V[-1]) finds the index of the room with the highest probability.\n",
        "    #   So current gets initialized to most likely final state and then appended to the path as the starting point\n",
        "\n",
        "    # TODO: Reconstruct the path\n",
        "    # Conceptually:\n",
        "    #     traverse the backpointer matrix (backptr) in reverse to reconstruct the most likely path\n",
        "    #     loop starts from the second-to-last time step (total_timesteps - 1) and goes backward to 1\n",
        "    #.    backptr[time_step, current] gives the most likely previous room at time_step\n",
        "    #     current is updated to this previous room and then added to the path\n",
        "\n",
        "    # TODO: Reverse path and convert indicies to room names\n",
        "    # Conceptually:\n",
        "    #    Since we were backtracking from the last time step to the first, the path list is in reverse order.\n",
        "    #    path.reverse() puts it in chronological order\n",
        "    #    Then we need to convert the numerical room indices in reconstructed path back to their names using blueprint\n",
        "\n",
        "    # TODO: Calculate sequence probability\n",
        "    # Conceptually:\n",
        "    #     V[-1] contains the log probs of ending in each room at the last time step\n",
        "    #     np.max(V[-1]) gives the highest log prob\n",
        "    #     np.exp(...) converts it back from log prob to actual prob.\n",
        "\n",
        "    return room_path, sequence_prob"
      ]
    },
    {
      "cell_type": "markdown",
      "metadata": {},
      "source": [
        "### Task 02-3: Description (0 pts.)\n",
        "#### Suspect Path Analysis\n",
        "\n",
        "Compare the suspect's alleged path from their statement to the most likely path found by the HMM and calculate the agreement between the two\n",
        "\n",
        "### Task 02-3: Code (1 pt.)"
      ]
    },
    {
      "cell_type": "code",
      "execution_count": null,
      "metadata": {
        "colab": {
          "base_uri": "https://localhost:8080/"
        },
        "id": "YPjbxyHp_53X",
        "outputId": "509da8fb-bc2f-48b5-e6be-86802c8c00c0"
      },
      "outputs": [],
      "source": [
        "# Get number of states in HMM\n",
        "locations = blueprint['rooms']\n",
        "n_states = len(locations)\n",
        "\n",
        "# Set up initial state distribution for HMM\n",
        "initial = np.ones(n_states) / n_states\n",
        "\n",
        "movement_results = {}\n",
        "\n",
        "print(\"\\nHMM Path Analysis:\")\n",
        "print(\"=\" * 50)\n",
        "\n",
        "# Loop through each suspect in dataset\n",
        "for suspect_name, suspect in suspect_data.items():\n",
        "    # Get all timestamps in chronological order (hint: sort timestamps to ensure chronological order)\n",
        "    timestamps = []\n",
        "    for entry in suspect['suspect_statement']:\n",
        "        timestamps.append(entry['time'])\n",
        "    timestamps.sort()\n",
        "\n",
        "    # Run Viterbi to get most likely true path using GPS data and witness statements\n",
        "    true_path, path_prob = viterbi(\n",
        "        {\n",
        "            'gps_data': suspect['gps_data'],\n",
        "            'witness_statements': suspect['witness_statements']\n",
        "        },\n",
        "        timestamps\n",
        "    )\n",
        "\n",
        "    # Compare the true path (from Viterbi) and the suspect's stated path\n",
        "    # Count the number of matches where the suspect's statement aligns with the computed true path\n",
        "    # TODO: Get suspects stated path\n",
        "\n",
        "    # TODO: Calculate matches between true and stated paths\n",
        "    #     hint: Compare the true path (from Viterbi) and the suspect's stated path by\n",
        "    #           counting the number of matches where the suspect's statement aligns with the computed true path\n",
        "\n",
        "    agreement = matches / len(true_path)\n",
        "\n",
        "    print(f\"\\n{suspect_name}:\")\n",
        "    print(f'\\tAgreement of Statement Path with HMM Path: {agreement}, Number of Contradictions: {len(true_path) - matches}')\n",
        "\n",
        "    path_agreement = {\n",
        "        'path_probability': path_prob,\n",
        "        'statement_agreement': agreement,\n",
        "        'num_contradictions': len(true_path) - matches\n",
        "    }\n",
        "\n",
        "    movement_results[suspect_name] = path_agreement"
      ]
    },
    {
      "cell_type": "markdown",
      "metadata": {},
      "source": [
        "### Task 02-3: Expected Output (1 pt.)\n",
        "\n",
        "```\n",
        "HMM Path Analysis:\n",
        "==================================================\n",
        "\n",
        "Sophia Noonan:\n",
        "\tAgreement of Statement Path with HMM Path: 0.8, Number of Contradictions: 4\n",
        "\n",
        "Tom Lohman:\n",
        "\tAgreement of Statement Path with HMM Path: 0.6, Number of Contradictions: 8\n",
        "\n",
        "Jack Mangione:\n",
        "\tAgreement of Statement Path with HMM Path: 0.65, Number of Contradictions: 7\n",
        "\n",
        "Professor Bill:\n",
        "\tAgreement of Statement Path with HMM Path: 0.75, Number of Contradictions: 5\n",
        "\n",
        "Cesar Cervera:\n",
        "\tAgreement of Statement Path with HMM Path: 0.45, Number of Contradictions: 11\n",
        "\n",
        "Olivia Zino:\n",
        "\tAgreement of Statement Path with HMM Path: 0.65, Number of Contradictions: 7\n",
        "```"
      ]
    },
    {
      "cell_type": "markdown",
      "metadata": {
        "id": "U4a52jJ1qC42"
      },
      "source": [
        "### Task 02-4: Short Answer Questions (2 pts.)\n",
        "\n",
        "\n",
        "* Task 03-4-1: Why do we use np.log around our probabilities and add them instead of multiplying them?\n",
        "\n",
        "   * Answer:\n",
        "\n",
        "\n",
        "\n",
        "* Task03-4-2: How do we create the emissions matrix?\n",
        "\n",
        "   * Answer:\n",
        "\n"
      ]
    },
    {
      "cell_type": "markdown",
      "metadata": {
        "id": "TwDkxyC2qmi6"
      },
      "source": [
        "\n",
        "### *Story Progression*\n",
        "\n",
        "Looks like we have a lot of lying suspects, but one seems to be lying more than the others. The evidence is beginning to stack up against Mr. Cervera! Now that we have two pieces of evidence that we can use to match the suspects to the aliases! If only there were some way to combine them. As you finish your drink you think back to class and remember that you can use Bayesian reasoning to combine the evidence! With the mix of your knowledge of bayesian reasoning and python programming skills, hopefully we be able to figure out who was who!"
      ]
    },
    {
      "cell_type": "markdown",
      "metadata": {
        "id": "6Scaz-tYqdnS"
      },
      "source": [
        "## Task 03: Final Bayesian Analysis (4 pts)\n",
        "### Task 03-1: Description (0 pts.)\n",
        "#### Evidence Combination Function\n",
        "\n",
        "* Define a function that combines the evidence from the decision tree and the HMM to give an output containing a mapping of the normalized posterior probability distribution over all aliases for each suspect.\n",
        "\n",
        "### Task 03-1: Code (2 pts.)"
      ]
    },
    {
      "cell_type": "code",
      "execution_count": null,
      "metadata": {
        "id": "4h9u9eAwQCjQ"
      },
      "outputs": [],
      "source": [
        "def combine_evidence_bayesian(aliases, decision_tree_results, hmm_results) -> Dict[str, Dict]:\n",
        "    \"\"\"\n",
        "    Combine all evidence, assuming that whomever is Mr. Green is lying!\n",
        "\n",
        "    P(Alias|Evidence) ∝ P(Alias|Activities) * P(Alias|Truthfulness)\n",
        "    \"\"\"\n",
        "    final_results = {}\n",
        "\n",
        "    # We can assume that whomever is Mr. Green is lying\n",
        "    # So low statement match with highest likelihood path → higher probability of being Mr. Green\n",
        "\n",
        "    # TODO: Iterate through each suspect and calculate posterior probabilities\n",
        "\n",
        "        # TODO: Retrieve decision tree probabilities for the current suspect\n",
        "\n",
        "        # TODO: Retrieve path agreement score from the HMM results\n",
        "\n",
        "        # TODO: For each alias, combine decision tree and HMM evidence\n",
        "\n",
        "        # TODO: Normalize posteriors\n",
        "\n",
        "    return final_results"
      ]
    },
    {
      "cell_type": "markdown",
      "metadata": {},
      "source": [
        "### Task 03-2: Description (0 pts.)\n",
        "#### Final Evidence Combination and Printing\n",
        "\n",
        "Run the function previously defined in step 1 on your evidence and print the results\n",
        "\n",
        "### Task 03-2: Code (1 pt.)"
      ]
    },
    {
      "cell_type": "code",
      "execution_count": null,
      "metadata": {},
      "outputs": [],
      "source": [
        "# Call combine_evidence_bayesian to get final probabilities for each suspect being each alias\n",
        "final_results = combine_evidence_bayesian(aliases, decision_tree_results, movement_results)\n",
        "\n",
        "# Print Results\n",
        "for suspect, results in final_results.items():\n",
        "    print(f\"{suspect}:\")\n",
        "    for alias, prob in results.items():\n",
        "        print(f\"  {alias}: {prob:.3f}\")"
      ]
    },
    {
      "cell_type": "markdown",
      "metadata": {},
      "source": [
        "### Task 03-2: Expected Results (1 pt.)\n",
        "\n",
        "```\n",
        "Sophia Noonan:\n",
        "  Colonel Mustard: 0.000\n",
        "  Miss Scarlet: 0.941\n",
        "  Mr. Green: 0.000\n",
        "  Mrs. Peacock: 0.000\n",
        "  Mrs. White: 0.000\n",
        "  Professor Plum: 0.059\n",
        "Tom Lohman:\n",
        "  Colonel Mustard: 0.500\n",
        "  Miss Scarlet: 0.000\n",
        "  Mr. Green: 0.000\n",
        "  Mrs. Peacock: 0.500\n",
        "  Mrs. White: 0.000\n",
        "  Professor Plum: 0.000\n",
        "Jack Mangione:\n",
        "  Colonel Mustard: 0.000\n",
        "  Miss Scarlet: 0.000\n",
        "  Mr. Green: 0.000\n",
        "  Mrs. Peacock: 0.000\n",
        "  Mrs. White: 0.000\n",
        "  Professor Plum: 1.000\n",
        "Professor Bill:\n",
        "  Colonel Mustard: 0.000\n",
        "  Miss Scarlet: 0.000\n",
        "  Mr. Green: 0.000\n",
        "  Mrs. Peacock: 1.000\n",
        "  Mrs. White: 0.000\n",
        "  Professor Plum: 0.000\n",
        "Cesar Cervera:\n",
        "  Colonel Mustard: 0.000\n",
        "  Miss Scarlet: 0.000\n",
        "  Mr. Green: 0.886\n",
        "  Mrs. Peacock: 0.000\n",
        "  Mrs. White: 0.038\n",
        "  Professor Plum: 0.076\n",
        "Olivia Zino:\n",
        "  Colonel Mustard: 0.000\n",
        "  Miss Scarlet: 0.200\n",
        "  Mr. Green: 0.000\n",
        "  Mrs. Peacock: 0.000\n",
        "  Mrs. White: 0.800\n",
        "  Professor Plum: 0.000\n",
        "```"
      ]
    },
    {
      "cell_type": "markdown",
      "metadata": {
        "id": "oX3Nl_tUQCjQ"
      },
      "source": [
        "## *Final Story Progression: Success!!*\n"
      ]
    },
    {
      "cell_type": "markdown",
      "metadata": {
        "id": "bftb6wIm7oc0"
      },
      "source": [
        "We did it, it seems extremely likely that Cesar Cervera is Mr. Green! You quickly call up Detective Caulfield and explain your findings. He laughs at you. It seems that a purely statistical analysis isn't going to be enough for the authorities to make a warrant. You pour yourself another drink and start brainstorming other ways to find more conclusive evidence."
      ]
    }
  ],
  "metadata": {
    "colab": {
      "provenance": []
    },
    "kernelspec": {
      "display_name": "Python 3",
      "language": "python",
      "name": "python3"
    },
    "language_info": {
      "codemirror_mode": {
        "name": "ipython",
        "version": 3
      },
      "file_extension": ".py",
      "mimetype": "text/x-python",
      "name": "python",
      "nbconvert_exporter": "python",
      "pygments_lexer": "ipython3",
      "version": "3.9.6"
    }
  },
  "nbformat": 4,
  "nbformat_minor": 0
}
